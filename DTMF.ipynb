{
 "cells": [
  {
   "cell_type": "markdown",
   "metadata": {},
   "source": [
    "#                                 DTMF TONE GENERATOR"
   ]
  },
  {
   "cell_type": "markdown",
   "metadata": {},
   "source": [
    "The DTMF tone generator creates DTMF (Dual Tone Multi-Frequency) tones. The generator plays the tones back into the speaker using pyaudio, saves the digits used as a .csv file and records the resulting DTMF tones as a wave file also for later playback."
   ]
  },
  {
   "cell_type": "code",
   "execution_count": 10,
   "metadata": {},
   "outputs": [
    {
     "name": "stdout",
     "output_type": "stream",
     "text": [
      "572*0D1087BDD8B3A670\n"
     ]
    }
   ],
   "source": [
    "'''\n",
    "\n",
    "DTMF\n",
    "                1209 Hz 1336 Hz 1477 Hz 1633 Hz\n",
    "        697 Hz  1       2       3       A\n",
    "        770 Hz  4       5       6       B\n",
    "        852 Hz  7       8       9       C\n",
    "        941 Hz  *       0       #       D\n",
    "\n",
    "2015\n",
    "originally modified from Noah Spurrier noah@noah.org\n",
    "\n",
    "2018 ***new sections***\n",
    "\n",
    "Fader - fades samples to remove clicks between samples due to different phase angles\n",
    "DTMF digit record save as csv file - use with deeplearning\n",
    "record audio as a wave file for playback - use for deeplearning\n",
    "\n",
    "'''\n",
    "\n",
    "import math\n",
    "import numpy as np\n",
    "import pyaudio\n",
    "import sys\n",
    "import time\n",
    "import wave\n",
    "import csv\n",
    "\n",
    "FORMAT = pyaudio.paFloat32\n",
    "CHANNELS = 1\n",
    "RATE = 44100\n",
    "CHUNK = 1024\n",
    "RECORD_SECONDS = 5\n",
    "WAVE_OUTPUT_FILENAME = \"dtmf.wav\"\n",
    "p = pyaudio.PyAudio()\n",
    "\n",
    "def sine_wave(frequency, length, rate):\n",
    "    length = int(length * rate)\n",
    "    factor = float(frequency) * (math.pi * 2) / rate\n",
    "    return np.sin(np.arange(length) * factor)\n",
    "\n",
    "def sine_sine_wave(f1, f2, length, rate):\n",
    "    s1=sine_wave(f1,length,rate)\n",
    "    s2=sine_wave(f2,length,rate)\n",
    "    ss=s1+s2\n",
    "    sa=np.divide(ss, 2.0)\n",
    "    return sa\n",
    "\n",
    "def play_tone(stream, frequency=440, length=0.10, rate=44100):\n",
    "    frames = []\n",
    "    frames.append(sine_wave(frequency, length, rate))\n",
    "    chunk = np.concatenate(frames) * 0.25\n",
    "    stream.write(chunk.astype(numpy.float32).tostring())\n",
    "\n",
    "def play_dtmf_tone(stream, digits, length=0.2, rate=44100):\n",
    "    dtmf_freqs = {'1': (1209,697), '2': (1336, 697), '3': (1477, 697), 'A': (1633, 697),\n",
    "                  '4': (1209,770), '5': (1336, 770), '6': (1477, 770), 'B': (1633, 770),\n",
    "                  '7': (1209,852), '8': (1336, 852), '9': (1477, 852), 'C': (1633, 852),\n",
    "                  '*': (1209,941), '0': (1336, 941), '#': (1477, 941), 'D': (1633, 941)}\n",
    "    dtmf_digits = ['1', '2', '3', '4', '5', '6', '7', '8', '9', '*', '0', '#', 'A', 'B', 'C', 'D']\n",
    "    if type(digits) is not type(''):\n",
    "        digits=str(digits)[0]\n",
    "    digits = ''.join ([dd for dd in digits if dd in dtmf_digits])\n",
    "    joined_chunks = []\n",
    "    for digit in digits:\n",
    "        digit=digit.upper()\n",
    "        frames = []\n",
    "        frames.append(sine_sine_wave(dtmf_freqs[digit][0], dtmf_freqs[digit][1], length, rate))\n",
    "        chunk = np.concatenate(frames) * 0.25\n",
    "        joined_chunks.append(chunk)\n",
    "        \n",
    "        # fader section\n",
    "        fade = 200 # 200ms\n",
    "        fade_in = np.arange(0., 1., 1/fade)\n",
    "        fade_out = np.arange(1., 0., -1/fade)\n",
    "\n",
    "        chunk[:fade] = np.multiply(chunk[:fade], fade_in) # fade sample wave in\n",
    "        chunk[-fade:] = np.multiply(chunk[-fade:], fade_out) # fade sample wave out\n",
    "        time.sleep(0.1)\n",
    "        \n",
    "    X = np.array(joined_chunks, dtype='float32') # creates an one long array of tone samples to record\n",
    "    stream.write(X.astype(np.float32).tostring()) # to hear tones\n",
    "    \n",
    "        \n",
    "        \n",
    "    # record tone sequence float 32 array as a wave file section (works on python 3.6)\n",
    "    for i in range(0, int(RECORD_SECONDS)):\n",
    "        waveFile = wave.open(WAVE_OUTPUT_FILENAME, 'wb')\n",
    "        waveFile.setnchannels(CHANNELS)\n",
    "        waveFile.setsampwidth(p.get_sample_size(FORMAT))\n",
    "        waveFile.setframerate(RATE)\n",
    "        waveFile.writeframes(X.astype(np.float32).tostring())\n",
    "        waveFile.close()\n",
    "\n",
    "if __name__ == '__main__':\n",
    "    stream = p.open(format=pyaudio.paFloat32,\n",
    "                    channels=1, rate=44100, output=1,frames_per_buffer=CHUNK)\n",
    "    \n",
    "\n",
    "    # Dial a telephone number.\n",
    "    if len(sys.argv) != 2:\n",
    "        a = ['1', '2', '3', '4', '5', '6', '7', '8', '9', '*', '0', '#', 'A', 'B', 'C', 'D']\n",
    "        digits = str(np.random.choice(a, 20)) # set random length of numbers to pluck from list a\n",
    "        # below preps random list of numbers for inclusion into csv file\n",
    "        digits=digits.replace(\"[\",'') # replace characters with null\n",
    "        digits=digits.replace(\"]\",'')\n",
    "        digits=digits.replace(\"'\",'')\n",
    "        digits=digits.replace(\"\\n\",'')\n",
    "        digits=digits.replace(\" \",'') # replace space with null\n",
    "        print(digits)\n",
    "        \n",
    "        # writes digits to csv file\n",
    "        with open('metadata.csv', 'w') as csvfile:\n",
    "            characters = csv.writer(csvfile, delimiter=' ')\n",
    "            characters.writerows(digits)\n",
    "    else:\n",
    "        digits = sys.argv[1]\n",
    "    play_dtmf_tone(stream, digits)\n",
    "    \n",
    "    stream.close()\n",
    "    p.terminate()"
   ]
  },
  {
   "cell_type": "markdown",
   "metadata": {},
   "source": [
    "# Wave File Details"
   ]
  },
  {
   "cell_type": "code",
   "execution_count": 5,
   "metadata": {},
   "outputs": [
    {
     "name": "stdout",
     "output_type": "stream",
     "text": [
      "sampling rate: 44100 Hz\n",
      "length: 176400 samples\n",
      "channels: 1\n",
      "sample width: 4 bytes\n",
      "file size: 705644 bytes 705.644 kB\n",
      "Duration: 4.0 seconds\n"
     ]
    }
   ],
   "source": [
    "import os\n",
    "import wave\n",
    "with wave.open('/Users/stephenlilley/dtmf.wav') as w:\n",
    "    framerate = w.getframerate()\n",
    "    frames = w.getnframes()\n",
    "    channels = w.getnchannels()\n",
    "    width = w.getsampwidth()\n",
    "    filesize = os.stat('/Users/stephenlilley/dtmf.wav')\n",
    "    time = frames / framerate\n",
    "    print('sampling rate:', framerate, 'Hz')\n",
    "    print('length:', frames, 'samples')\n",
    "    print('channels:', channels)\n",
    "    print('sample width:', width, 'bytes')\n",
    "    print('file size:', filesize.st_size, 'bytes', filesize.st_size/1000, 'kB' )\n",
    "    print('Duration:', time, 'seconds')\n",
    "    data = w.readframes(frames)"
   ]
  },
  {
   "cell_type": "markdown",
   "metadata": {},
   "source": [
    "# Play Wave Files"
   ]
  },
  {
   "cell_type": "code",
   "execution_count": null,
   "metadata": {},
   "outputs": [],
   "source": [
    "import pyaudio  \n",
    "import wave  \n",
    "\n",
    "#define stream chunk   \n",
    "chunk = 1024  \n",
    "\n",
    "#open a wav format music  \n",
    "f = wave.open(r\"/Users/stephenlilley/dtmf.wav\",\"rb\")  \n",
    "#instantiate PyAudio  \n",
    "p = pyaudio.PyAudio()  \n",
    "#open stream  \n",
    "stream = p.open(format = p.get_format_from_width(f.getsampwidth()),  \n",
    "                channels = f.getnchannels(),  \n",
    "                rate = f.getframerate(),  \n",
    "                output = True)  \n",
    "#read data  \n",
    "data = f.readframes(chunk)  \n",
    "\n",
    "#play stream  \n",
    "while data:  \n",
    "    stream.write(data)  \n",
    "    data = f.readframes(chunk)  \n",
    "\n",
    "#stop stream  \n",
    "stream.stop_stream()  \n",
    "stream.close()  \n",
    "\n",
    "#close PyAudio  \n",
    "p.terminate()  "
   ]
  }
 ],
 "metadata": {
  "kernelspec": {
   "display_name": "Python 3",
   "language": "python",
   "name": "python3"
  },
  "language_info": {
   "codemirror_mode": {
    "name": "ipython",
    "version": 3
   },
   "file_extension": ".py",
   "mimetype": "text/x-python",
   "name": "python",
   "nbconvert_exporter": "python",
   "pygments_lexer": "ipython3",
   "version": "3.6.3"
  }
 },
 "nbformat": 4,
 "nbformat_minor": 2
}
